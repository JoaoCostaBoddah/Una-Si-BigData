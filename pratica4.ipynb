{
 "metadata": {
  "language_info": {
   "codemirror_mode": {
    "name": "ipython",
    "version": 3
   },
   "file_extension": ".py",
   "mimetype": "text/x-python",
   "name": "python",
   "nbconvert_exporter": "python",
   "pygments_lexer": "ipython3",
   "version": "3.8.5-final"
  },
  "orig_nbformat": 2,
  "kernelspec": {
   "name": "python_defaultSpec_1598359627335",
   "display_name": "Python 3.8.5 64-bit"
  }
 },
 "nbformat": 4,
 "nbformat_minor": 2,
 "cells": [
  {
   "cell_type": "markdown",
   "metadata": {},
   "source": [
    "# Importar biblioteca pyodbc:"
   ]
  },
  {
   "cell_type": "code",
   "execution_count": 1,
   "metadata": {},
   "outputs": [],
   "source": [
    "import pyodbc"
   ]
  },
  {
   "cell_type": "code",
   "execution_count": 2,
   "metadata": {},
   "outputs": [],
   "source": [
    "# Gerar conexão com o banco de dados\n",
    "\n",
    "class ConexaoBD ():\n",
    "    def conexao (self):\n",
    "        return pyodbc.connect (driver = '{SQL Server}', server = '.\\SQLEXPRESS', database = 'empresa', trusted_connection = 'yes')\n",
    "\n",
    " #Pegar a conexão com o banco de dados\n",
    "        \n",
    "bd = ConexaoBD ()\n",
    "c = bd.conexao ()"
   ]
  },
  {
   "cell_type": "code",
   "execution_count": 4,
   "metadata": {},
   "outputs": [],
   "source": [
    "\n",
    "# Classe Categoria:\n",
    "class Categoria:\n",
    "    def __init__ (self, conexao):\n",
    "        self.conexao = conexao\n",
    "\n",
    "    def criar (self):\n",
    "        ddl = '''\n",
    "            create table Categoria (\n",
    "            id int primary key identity (1, 1),\n",
    "            nome varchar (32),\n",
    "            descricao text\n",
    "            );\n",
    "            '''\n",
    "        with self.conexao:\n",
    "            self.conexao.execute (ddl)\n",
    "\n",
    "categoria = Categoria (c)\n",
    "categoria.criar()\n"
   ]
  },
  {
   "cell_type": "code",
   "execution_count": 5,
   "metadata": {
    "tags": []
   },
   "outputs": [],
   "source": [
    "# Classe Vendedor:\n",
    "class Vendedor:\n",
    "    def __init__ (self, conexao):\n",
    "        self.conexao = conexao\n",
    "\n",
    "    def criar (self):\n",
    "        ddl = '''\n",
    "            create table Vendedor (\n",
    "            cpf varchar(14) primary key,\n",
    "            nome varchar (128),\n",
    "            email varchar(128),\n",
    "            telefone varchar(20),\n",
    "            endereco varchar(256)\n",
    "            );\n",
    "            '''\n",
    "        with self.conexao:\n",
    "            self.conexao.execute (ddl)\n",
    "\n",
    "vendedor = Vendedor (c)\n",
    "vendedor.criar()"
   ]
  },
  {
   "cell_type": "code",
   "execution_count": 6,
   "metadata": {},
   "outputs": [],
   "source": [
    "# Classe Produto:\n",
    "class Produto:\n",
    "    def __init__ (self, conexao):\n",
    "        self.conexao = conexao\n",
    "\n",
    "    def criar (self):\n",
    "        ddl = '''\n",
    "            create table Produto (\n",
    "            id int primary key identity(1,1),\n",
    "            nome varchar(128),\n",
    "            descricao text,\n",
    "            marca varchar(32),\n",
    "            id_categoria int foreign key references Categoria (id)\n",
    "            );\n",
    "            '''\n",
    "        with self.conexao:\n",
    "            self.conexao.execute (ddl)\n",
    "\n",
    "produto = Produto (c)\n",
    "produto.criar()"
   ]
  },
  {
   "cell_type": "code",
   "execution_count": 7,
   "metadata": {},
   "outputs": [],
   "source": [
    "# Classe VendedorProduto:\n",
    "class VendedorProduto:\n",
    "    def __init__ (self, conexao):\n",
    "        self.conexao = conexao\n",
    "\n",
    "    def criar (self):\n",
    "        ddl = '''\n",
    "            create table VendedorProduto (\n",
    "            id int primary key identity (1,1),\n",
    "            cpf_vendedor varchar(14) foreign key references Vendedor(cpf),\n",
    "            id_produto int foreign key references Produto(id),\n",
    "            quantidade int,\n",
    "            preco decimal\n",
    "            );\n",
    "            '''\n",
    "        with self.conexao:\n",
    "            self.conexao.execute (ddl)\n",
    "\n",
    "vendedorproduto = VendedorProduto (c)\n",
    "vendedorproduto.criar()"
   ]
  },
  {
   "cell_type": "code",
   "execution_count": 9,
   "metadata": {
    "tags": []
   },
   "outputs": [
    {
     "output_type": "stream",
     "name": "stdout",
     "text": "(1, 'Massas', 'Ricas em carboidratos e vitaminas')\n(2, 'Proteinas', 'Ricas em vitaminas e macronutrientes')\n(3, 'Gorduras', 'Ricas em lípidios e omega 3')\n"
    }
   ],
   "source": [
    "# Leitura dos dados da tabela\n",
    "# Tabela Categoria\n",
    "\n",
    "class Categoria():\n",
    "    def __init__(self, conexao):\n",
    "        self.conexao = conexao\n",
    "    def conexao(self):\n",
    "        return pyodbc.connect(driver = '{SQL Server}', server = 'localhost\\SQLEXPRESS', database= 'empresa', trusted_connection = 'yes')\n",
    "    \n",
    "    bd = ConexaoBD()\n",
    "    c = bd.conexao()\n",
    "\n",
    "    def ler(self):\n",
    "        cursor = self.conexao.cursor()\n",
    "        cursor.execute(\"select * from Categoria;\")\n",
    "        for linha in cursor:\n",
    "            print(linha)\n",
    "\n",
    "categoria = Categoria(c)\n",
    "categoria.ler()"
   ]
  },
  {
   "cell_type": "code",
   "execution_count": 10,
   "metadata": {
    "tags": []
   },
   "outputs": [
    {
     "output_type": "stream",
     "name": "stdout",
     "text": "(1, 'Macarrão Vilma', 'Massa tamanho 8 com ovos', 'Vilma Alimentos', 1)\n(3, 'Ovo', 'Ovo de galinha caipira', 'Elshaday Alimentos', 2)\n(4, 'Oleo de girassol', 'Óleo rico em vitamina E', 'Supremo Alimentos', 3)\n"
    }
   ],
   "source": [
    "# Leitura dos dados da tabela\n",
    "# Tabela Produto\n",
    "\n",
    "class Produto():\n",
    "    def __init__(self, conexao):\n",
    "        self.conexao = conexao\n",
    "    def conexao(self):\n",
    "        return pyodbc.connect(driver = '{SQL Server}', server = 'localhost\\SQLEXPRESS', database= 'empresa', trusted_connection = 'yes')\n",
    "    \n",
    "    bd = ConexaoBD()\n",
    "    c = bd.conexao()\n",
    "\n",
    "    def ler(self):\n",
    "        cursor = self.conexao.cursor()\n",
    "        cursor.execute(\"select * from Produto;\")\n",
    "        for linha in cursor:\n",
    "            print(linha)\n",
    "\n",
    "produto = Produto(c)\n",
    "produto.ler()"
   ]
  },
  {
   "cell_type": "code",
   "execution_count": 11,
   "metadata": {
    "tags": []
   },
   "outputs": [
    {
     "output_type": "stream",
     "name": "stdout",
     "text": "('128.156.898-98', 'Arnaldo Sacomani', 'arnaldoFulero@ig.gov.uk', '(31)99220-6888', 'DR. Afonso Neves, Itapoã, Pampulha')\n('888.555.444-66', 'Julio Sacomani', 'julioFulero@ig.gov.uk', '(31)98578-3333', 'DR. Afonso Neves, Itapoã, Pampulha')\n"
    }
   ],
   "source": [
    "# Leitura dos dados da tabela\n",
    "# Tabela Vendedor\n",
    "\n",
    "class Vendedor():\n",
    "    def __init__(self, conexao):\n",
    "        self.conexao = conexao\n",
    "    def conexao(self):\n",
    "        return pyodbc.connect(driver = '{SQL Server}', server = 'localhost\\SQLEXPRESS', database= 'empresa', trusted_connection = 'yes')\n",
    "    \n",
    "    bd = ConexaoBD()\n",
    "    c = bd.conexao()\n",
    "\n",
    "    def ler(self):\n",
    "        cursor = self.conexao.cursor()\n",
    "        cursor.execute(\"select * from Vendedor;\")\n",
    "        for linha in cursor:\n",
    "            print(linha)\n",
    "\n",
    "vendedor = Vendedor(c)\n",
    "vendedor.ler()"
   ]
  },
  {
   "cell_type": "code",
   "execution_count": 12,
   "metadata": {
    "tags": []
   },
   "outputs": [
    {
     "output_type": "stream",
     "name": "stdout",
     "text": "(6, '888.555.444-66', 3, 5, Decimal('9'))\n(7, '888.555.444-66', 4, 10, Decimal('6'))\n(8, '128.156.898-98', 3, 5, Decimal('9'))\n(9, '128.156.898-98', 1, 7, Decimal('11'))\n"
    }
   ],
   "source": [
    "# Leitura dos dados da tabela\n",
    "# Tabela VendedorProduto\n",
    "\n",
    "class VendedorProduto():\n",
    "    def __init__(self, conexao):\n",
    "        self.conexao = conexao\n",
    "    def conexao(self):\n",
    "        return pyodbc.connect(driver = '{SQL Server}', server = 'localhost\\SQLEXPRESS', database= 'empresa', trusted_connection = 'yes')\n",
    "    \n",
    "    bd = ConexaoBD()\n",
    "    c = bd.conexao()\n",
    "\n",
    "    def ler(self):\n",
    "        cursor = self.conexao.cursor()\n",
    "        cursor.execute(\"select * from VendedorProduto;\")\n",
    "        for linha in cursor:\n",
    "            print(linha)\n",
    "\n",
    "vendedorproduto = VendedorProduto(c)\n",
    "vendedorproduto.ler()"
   ]
  },
  {
   "cell_type": "code",
   "execution_count": null,
   "metadata": {},
   "outputs": [],
   "source": []
  }
 ]
}