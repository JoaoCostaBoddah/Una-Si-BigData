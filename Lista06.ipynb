{
 "metadata": {
  "language_info": {
   "codemirror_mode": {
    "name": "ipython",
    "version": 3
   },
   "file_extension": ".py",
   "mimetype": "text/x-python",
   "name": "python",
   "nbconvert_exporter": "python",
   "pygments_lexer": "ipython3",
   "version": "3.8.5-final"
  },
  "orig_nbformat": 2,
  "kernelspec": {
   "name": "python38564bit14a68ed3d72846d6a8d4c1a9b6e724fd",
   "display_name": "Python 3.8.5 64-bit"
  }
 },
 "nbformat": 4,
 "nbformat_minor": 2,
 "cells": [
  {
   "cell_type": "code",
   "execution_count": 2,
   "metadata": {},
   "outputs": [],
   "source": [
    "# Importar biblioteca pyodbc:\n",
    "import pyodbc\n",
    "# Classe para conexão com o banco de dados:\n",
    "class ConexaoBD ():\n",
    "    def conectar (self):\n",
    "        return pyodbc.connect (driver = '{SQL Server}', server = '.\\SQLEXPRESS', database =\n",
    "        'empresa', trusted_connection = 'yes')"
   ]
  },
  {
   "cell_type": "code",
   "execution_count": 3,
   "metadata": {},
   "outputs": [],
   "source": [
    "# Instanciar um objeto da classe para conexão com o banco de dados:\n",
    "bd = ConexaoBD ()\n",
    "# Pegar uma conexão com o banco de dados:\n",
    "conexao = bd.conectar ()"
   ]
  },
  {
   "cell_type": "code",
   "execution_count": 6,
   "metadata": {},
   "outputs": [],
   "source": [
    "# Classe Categoria:\n",
    "class Categoria:\n",
    "    def __init__ (self, conexao):\n",
    "        self.conexao = conexao\n",
    "    def inserir (self):\n",
    "        dml = ''' insert into Categoria (nome, descricao) values\n",
    "        ('Telefonia', 'Aparelho telefônico'),\n",
    "        ('Informática', 'Computador portátil'),\n",
    "        ('Roupa', 'Vestuário'),\n",
    "        ('Calçado', 'Vestuário');\n",
    "        '''\n",
    "        with self.conexao:\n",
    "            cursor = self.conexao.cursor ()\n",
    "            cursor.execute (dml)\n",
    "# Instanciar objeto da classe Categoria:\n",
    "categoria = Categoria (conexao)\n",
    "# Inserir um registro no banco de dados:\n",
    "categoria.inserir ()"
   ]
  },
  {
   "source": [
    "# Inserção"
   ],
   "cell_type": "markdown",
   "metadata": {}
  },
  {
   "cell_type": "code",
   "execution_count": 14,
   "metadata": {},
   "outputs": [],
   "source": [
    "# Classe Vendedor:\n",
    "class Vendedor:\n",
    "    def __init__ (self, conexao):\n",
    "        self.conexao = conexao\n",
    "    def inserir (self):\n",
    "        dml = ''' insert into Vendedor (cpf, nome, email, telefone, endereco) values\n",
    "                ('111.111.111-11', 'Ana', 'ana@ana.com.br', '(11) 1 1111-1111', 'Rua n.1, n. 1, Bairro 1, Cidade 1, MG'),\n",
    "                ('222.222.222-22', 'Bruno', 'bruno@bruno.com.br', '(22) 2 2222-2222', 'Rua n.2, n. 2, Bairro 2, Cidade 2, MG'),\n",
    "                ('333.333.333-33', 'Carla', 'carla@carla.com.br', '(33) 3 3333-3333', 'Rua n.3, n. 3, Bairro 3, Cidade 3, MG'),\n",
    "                ('444.444.444-44', 'Diego', 'diego@diego.com.br', '(44) 4 4444-4444', 'Rua n.4, n. 4, Bairro 4, Cidade 4, MG'),\n",
    "                ('555.555.555-55', 'Elis', 'elis@elis.com.br', '(55) 5 5555-5555', 'Rua n.5, n. 5, Bairro 5, Cidade 5, MG'),\n",
    "                ('666.666.666-66', 'Fábio', 'fabio@fabio.com.br', '(66) 6 6666-6666', 'Rua n.6, n. 6, Bairro 6, Cidade 6, MG'),\n",
    "                ('777.777.777-77', 'Gisele', 'gisele@gisele.com.br', '(77) 7 7777-7777', 'Rua n.7, n. 7, Bairro 7, Cidade 7, MG'),\n",
    "                ('888.888.888-88', 'Heitor', 'heitor@heitor.com.br', '(88) 8 8888-8888', 'Rua n.8, n. 8, Bairro 8, Cidade 8, MG'),\n",
    "                ('999.999.999-99', 'Iris', 'iris@iris.com.br', '(99) 9 9999-9999', 'Rua n.9, n. 9, Bairro 9, Cidade 9, MG');\n",
    "            '''\n",
    "        with self.conexao:\n",
    "            cursor = self.conexao.cursor ()\n",
    "            cursor.execute (dml)\n",
    "# Instanciar objeto da classe Vendedor:\n",
    "vendedor = Vendedor (conexao)\n",
    "# Inserir um registro no banco de dados:\n",
    "vendedor.inserir ()\n"
   ]
  },
  {
   "cell_type": "code",
   "execution_count": 15,
   "metadata": {},
   "outputs": [],
   "source": [
    "# Classe Produto:\n",
    "class Produto:\n",
    "    def __init__ (self, conexao):\n",
    "        self.conexao = conexao\n",
    "    def inserir (self):\n",
    "        dml = ''' insert into Produto (nome, descricao, marca, id_categoria) values\n",
    "                ('Celular', 'Celular 1', 'Apple', 1),\n",
    "                ('Celular', 'Celular 2', 'Samsung', 1),\n",
    "                ('Celular', 'Celular 3', 'Xiaomi', 1),\n",
    "                ('Notebook', 'Notebook 1', 'Apple', 2),\n",
    "                ('Notebook', 'Notebook 2', 'Samsung', 2),\n",
    "                ('Notebook', 'Notebook 3', 'Xiaomi', 2),\n",
    "                ('Camisa', 'Camisa 1', 'Nike', 3),\n",
    "                ('Calça', 'Calça 1', 'Nike', 3),\n",
    "                ('Tênis', 'Tênis 1', 'Nike', 4),\n",
    "                ('Camisa', 'Camisa 2', 'Adidas', 3),\n",
    "                ('Calça', 'Calça 2', 'Adidas', 3),\n",
    "                ('Tênis', 'Tênis 2', 'Adidas', 4),\n",
    "                ('Camisa', 'Camisa 3', 'Zara', 3),\n",
    "                ('Calça', 'Calça 3', 'Zara', 3),\n",
    "                ('Tênis', 'Tênis 3', 'Zara', 4);\n",
    "            '''\n",
    "        with self.conexao:\n",
    "            cursor = self.conexao.cursor ()\n",
    "            cursor.execute (dml)\n",
    "# Instanciar objeto da classe Vendedor:\n",
    "produto = Produto (conexao)\n",
    "# Inserir um registro no banco de dados:\n",
    "produto.inserir ()"
   ]
  },
  {
   "cell_type": "code",
   "execution_count": 18,
   "metadata": {},
   "outputs": [],
   "source": [
    "# Classe VendedorProduto:\n",
    "class VendedorProduto:\n",
    "    def __init__ (self, conexao):\n",
    "        self.conexao = conexao\n",
    "    def inserir (self):\n",
    "        dml = ''' insert into VendedorProduto (cpf_vendedor, id_produto, quantidade, preco)\n",
    "                values('111.111.111-11', 1, 2, 4000),\n",
    "                    ('111.111.111-11', 13, 3, 3000),\n",
    "                    ('111.111.111-11', 3, 4, 1000),\n",
    "                    ('111.111.111-11', 12, 2, 110),\n",
    "                    ('222.222.222-22', 4, 3, 5000),\n",
    "                    ('222.222.222-22', 5, 5, 4000),\n",
    "                    ('222.222.222-22', 6, 6, 3000),\n",
    "                    ('333.333.333-33', 7, 10, 50),\n",
    "                    ('333.333.333-33', 14, 2, 88),\n",
    "                    ('555.555.555-55', 7, 10, 45),\n",
    "                    ('666.666.666-66', 9, 3, 120),\n",
    "                    ('666.666.666-66', 14, 8, 78),\n",
    "                    ('888.888.888-88', 10, 0, 40),\n",
    "                    ('999.999.999-99', 11, 0, 87),\n",
    "                    ('999.999.999-99', 1, 1, 5000);\n",
    "            '''\n",
    "        with self.conexao:\n",
    "            cursor = self.conexao.cursor ()\n",
    "            cursor.execute (dml)\n",
    "# Instanciar objeto da classe Vendedor:\n",
    "vendedor_produto = VendedorProduto (conexao)\n",
    "# Inserir um registro no banco de dados:\n",
    "vendedor_produto.inserir ()"
   ]
  },
  {
   "source": [
    "# select"
   ],
   "cell_type": "markdown",
   "metadata": {}
  },
  {
   "cell_type": "code",
   "execution_count": 21,
   "metadata": {
    "tags": []
   },
   "outputs": [
    {
     "output_type": "stream",
     "name": "stdout",
     "text": "('111.111.111-11', 'Ana', 'ana@ana.com.br')\n('12345678922', 'Augusto', 'augusto_jvs@hotmail.com')\n('222.222.222-22', 'Bruno', 'bruno@bruno.com.br')\n('333.333.333-33', 'Carla', 'carla@carla.com.br')\n('444.444.444-44', 'Diego', 'diego@diego.com.br')\n('555.555.555-55', 'Elis', 'elis@elis.com.br')\n('666.666.666-66', 'Fábio', 'fabio@fabio.com.br')\n('777.777.777-77', 'Gisele', 'gisele@gisele.com.br')\n('888.888.888-88', 'Heitor', 'heitor@heitor.com.br')\n('999.999.999-99', 'Iris', 'iris@iris.com.br')\n"
    }
   ],
   "source": [
    "# Classe Vendedor:\n",
    "class Vendedor:\n",
    "    def __init__ (self, conexao):\n",
    "        self.conexao = conexao\n",
    "\n",
    "    def buscar (self):\n",
    "        sql = ''' select v.cpf as CPF, v.nome as Vendedor, v.email as 'E-mail'\n",
    "            from Vendedor v\n",
    "            '''\n",
    "        with self.conexao:\n",
    "            cursor = self.conexao.cursor ()\n",
    "            cursor.execute (sql)\n",
    "            for linha in cursor:\n",
    "                print (linha)\n",
    "# Instanciar objeto da classe Vendedor:\n",
    "vendedor = Vendedor (conexao)\n",
    "# Ler os registros do banco de dados:\n",
    "vendedor.buscar ()\n"
   ]
  },
  {
   "source": [
    "# Pandas"
   ],
   "cell_type": "markdown",
   "metadata": {}
  },
  {
   "cell_type": "code",
   "execution_count": 7,
   "metadata": {},
   "outputs": [],
   "source": [
    "# Importar a biblioteca Pandas:\n",
    "import pandas as pd"
   ]
  },
  {
   "cell_type": "code",
   "execution_count": 28,
   "metadata": {
    "tags": []
   },
   "outputs": [
    {
     "output_type": "stream",
     "name": "stdout",
     "text": "CPF Vendedor                   E-mail\n0  111.111.111-11      Ana           ana@ana.com.br\n1     12345678922  Augusto  augusto_jvs@hotmail.com\n2  222.222.222-22    Bruno       bruno@bruno.com.br\n3  333.333.333-33    Carla       carla@carla.com.br\n4  444.444.444-44    Diego       diego@diego.com.br\n5  555.555.555-55     Elis         elis@elis.com.br\n6  666.666.666-66    Fábio       fabio@fabio.com.br\n7  777.777.777-77   Gisele     gisele@gisele.com.br\n8  888.888.888-88   Heitor     heitor@heitor.com.br\n9  999.999.999-99     Iris         iris@iris.com.br\n<class 'pandas.core.frame.DataFrame'>\n"
    }
   ],
   "source": [
    "# Classe Vendedor:\n",
    "class Vendedor:\n",
    "    def __init__ (self, conexao):\n",
    "        self.conexao = conexao\n",
    "\n",
    "    def buscarPandas (self):\n",
    "        sql = ''' select v.cpf as CPF, v.nome as Vendedor, v.email as 'E-mail'\n",
    "                from Vendedor v\n",
    "            '''\n",
    "        data_frame = pd.read_sql_query (sql, self.conexao)\n",
    "        print (data_frame)\n",
    "        print (type (data_frame))\n",
    "# Instanciar objeto da classe Vendedor:\n",
    "vendedor = Vendedor (conexao)\n",
    "# Ler os registros do banco de dados:\n",
    "vendedor.buscarPandas ()"
   ]
  },
  {
   "source": [
    "# where"
   ],
   "cell_type": "markdown",
   "metadata": {}
  },
  {
   "cell_type": "code",
   "execution_count": 33,
   "metadata": {
    "tags": []
   },
   "outputs": [
    {
     "output_type": "stream",
     "name": "stdout",
     "text": "CPF Vendedor Produto      Marca              Categoria  Qtde  \\\n0     12345678922  Augusto    Peão  non saber                   Peão     5   \n1  111.111.111-11      Ana   Tênis       Nike                 livros     2   \n2  111.111.111-11      Ana  Camisa     Adidas  Utensilhos domesticos     3   \n3  111.111.111-11      Ana   Calça     Adidas  Utensilhos domesticos     4   \n4  111.111.111-11      Ana   Tênis     Adidas                 livros     2   \n5  222.222.222-22    Bruno  Camisa       Zara  Utensilhos domesticos     3   \n6  222.222.222-22    Bruno   Calça       Zara  Utensilhos domesticos     5   \n7  222.222.222-22    Bruno   Tênis       Zara                 livros     6   \n\n    Preco  \n0    26.0  \n1  4000.0  \n2  3000.0  \n3  1000.0  \n4   110.0  \n5  5000.0  \n6  4000.0  \n7  3000.0  \n<class 'pandas.core.frame.DataFrame'>\n"
    }
   ],
   "source": [
    "# Classe Vendedor:\n",
    "class Vendedor:\n",
    "    def __init__ (self, conexao):\n",
    "        self.conexao = conexao\n",
    "    def pesquisarPandas (self):\n",
    "        sql = ''' select v.cpf as CPF, v.nome as Vendedor,\n",
    "            p.nome as Produto, p.marca as Marca,\n",
    "            c.nome as Categoria,\n",
    "            vp.quantidade as Qtde, vp.preco as Preco\n",
    "            from Vendedor v, VendedorProduto vp, Produto p, Categoria c\n",
    "            where v.cpf = vp.cpf_vendedor and\n",
    "            vp.id = p.id and\n",
    "            p.id_categoria = c.id;\n",
    "        '''\n",
    "        data_frame = pd.read_sql_query (sql, self.conexao)\n",
    "        print (data_frame)\n",
    "        print (type (data_frame))\n",
    "# Instanciar objeto da classe Vendedor:\n",
    "vendedor = Vendedor (conexao)\n",
    "# Ler os registros do banco de dados:\n",
    "vendedor.pesquisarPandas ()"
   ]
  },
  {
   "source": [
    "# like"
   ],
   "cell_type": "markdown",
   "metadata": {}
  },
  {
   "cell_type": "code",
   "execution_count": 34,
   "metadata": {
    "tags": []
   },
   "outputs": [
    {
     "output_type": "stream",
     "name": "stdout",
     "text": "CPF Vendedor\n0  333.333.333-33    Carla\n<class 'pandas.core.frame.DataFrame'>\n"
    }
   ],
   "source": [
    "# Classe Vendedor:\n",
    "class Vendedor:\n",
    "    def __init__ (self, conexao):\n",
    "        self.conexao = conexao\n",
    "    def buscar (self):\n",
    "        sql = ''' select v.cpf as CPF, v.nome as Vendedor\n",
    "            from Vendedor v\n",
    "            where v.nome like '%rl%';\n",
    "            '''\n",
    "\n",
    "        data_frame = pd.read_sql_query (sql, self.conexao)\n",
    "        print (data_frame)\n",
    "        print (type (data_frame))\n",
    "# Instanciar objeto da classe Vendedor:\n",
    "vendedor = Vendedor (conexao)\n",
    "# Pesquisa:\n",
    "vendedor.buscar ()"
   ]
  },
  {
   "source": [
    "# between"
   ],
   "cell_type": "markdown",
   "metadata": {}
  },
  {
   "cell_type": "code",
   "execution_count": 35,
   "metadata": {
    "tags": []
   },
   "outputs": [
    {
     "output_type": "stream",
     "name": "stdout",
     "text": "CPF Vendedor Produto  Preço\n0  111.111.111-11      Ana  Camisa  110.0\n1  333.333.333-33    Carla   Tênis   88.0\n2  666.666.666-66    Fábio  Camisa  120.0\n3  999.999.999-99     Iris   Tênis   87.0\n<class 'pandas.core.frame.DataFrame'>\n"
    }
   ],
   "source": [
    "# Classe Vendedor:\n",
    "class Vendedor:\n",
    "    def __init__ (self, conexao):\n",
    "        self.conexao = conexao\n",
    "    def buscar (self):\n",
    "        sql = ''' select v.cpf as CPF, v.nome as Vendedor, p.nome as Produto, vp.preco as Preço\n",
    "            from Vendedor v, VendedorProduto vp, Produto p\n",
    "            where v.cpf = vp.cpf_vendedor and\n",
    "            vp.id_produto = p.id and\n",
    "            vp.preco between 80 and 200;\n",
    "            '''\n",
    "\n",
    "        data_frame = pd.read_sql_query (sql, self.conexao)\n",
    "        print (data_frame)\n",
    "        print (type (data_frame))\n",
    "# Instanciar objeto da classe Vendedor:\n",
    "vendedor = Vendedor (conexao)\n",
    "# Pesquisa:\n",
    "vendedor.buscar ()"
   ]
  },
  {
   "source": [
    "# distinct"
   ],
   "cell_type": "markdown",
   "metadata": {}
  },
  {
   "cell_type": "code",
   "execution_count": 36,
   "metadata": {
    "tags": []
   },
   "outputs": [
    {
     "output_type": "stream",
     "name": "stdout",
     "text": "Produto\n0     Calça\n1    Camisa\n2   Celular\n3  Notebook\n4      Peão\n5     Tênis\n<class 'pandas.core.frame.DataFrame'>\n"
    }
   ],
   "source": [
    "# Classe Produto:\n",
    "class Produto:\n",
    "    def __init__ (self, conexao):\n",
    "        self.conexao = conexao\n",
    "    def buscar (self):\n",
    "        sql = ''' select distinct p.nome as Produto\n",
    "            from Produto p\n",
    "            '''\n",
    "        data_frame = pd.read_sql_query (sql, self.conexao)\n",
    "        print (data_frame)\n",
    "        print (type (data_frame))\n",
    "# Instanciar objeto da classe Vendedor:\n",
    "produto = Produto (conexao)\n",
    "# Inserir um registro no banco de dados:\n",
    "produto.buscar ()\n"
   ]
  },
  {
   "source": [
    "# Subconsulta (in)"
   ],
   "cell_type": "markdown",
   "metadata": {}
  },
  {
   "cell_type": "code",
   "execution_count": 37,
   "metadata": {
    "tags": []
   },
   "outputs": [
    {
     "output_type": "stream",
     "name": "stdout",
     "text": "CPF Vendedor\n0  111.111.111-11      Ana\n1     12345678922  Augusto\n2  222.222.222-22    Bruno\n3  333.333.333-33    Carla\n4  555.555.555-55     Elis\n5  666.666.666-66    Fábio\n6  888.888.888-88   Heitor\n7  999.999.999-99     Iris\n<class 'pandas.core.frame.DataFrame'>\n"
    }
   ],
   "source": [
    "# Classe Vendedor:\n",
    "class Vendedor:\n",
    "    def __init__ (self, conexao):\n",
    "        self.conexao = conexao\n",
    "    def buscar (self):\n",
    "        sql = ''' select v.cpf as CPF, v.nome as Vendedor\n",
    "            from Vendedor v\n",
    "            where v.cpf in (select vp.cpf_vendedor\n",
    "            from VendedorProduto vp);\n",
    "            '''\n",
    "        data_frame = pd.read_sql_query (sql, self.conexao)\n",
    "        print (data_frame)\n",
    "        print (type (data_frame))\n",
    "# Instanciar objeto da classe Vendedor:\n",
    "vendedor = Vendedor (conexao)\n",
    "# Ler os registros do banco de dados:\n",
    "vendedor.buscar ()"
   ]
  },
  {
   "source": [
    "# Subconsulta (exists)"
   ],
   "cell_type": "markdown",
   "metadata": {}
  },
  {
   "cell_type": "code",
   "execution_count": 38,
   "metadata": {
    "tags": []
   },
   "outputs": [
    {
     "output_type": "stream",
     "name": "stdout",
     "text": "CPF Vendedor\n0  111.111.111-11      Ana\n1     12345678922  Augusto\n2  222.222.222-22    Bruno\n3  333.333.333-33    Carla\n4  555.555.555-55     Elis\n5  666.666.666-66    Fábio\n6  888.888.888-88   Heitor\n7  999.999.999-99     Iris\n<class 'pandas.core.frame.DataFrame'>\n"
    }
   ],
   "source": [
    "# Classe Vendedor:\n",
    "class Vendedor:\n",
    "    def __init__ (self, conexao):\n",
    "        self.conexao = conexao\n",
    "    def buscar (self):\n",
    "        sql = ''' select v.cpf as CPF, v.nome as Vendedor\n",
    "            from Vendedor v\n",
    "            where exists (select vp.cpf_vendedor\n",
    "            from VendedorProduto vp\n",
    "            where v.cpf = vp.cpf_vendedor);\n",
    "            '''\n",
    "        data_frame = pd.read_sql_query (sql, self.conexao)\n",
    "        print (data_frame)\n",
    "        print (type (data_frame))\n",
    "# Instanciar objeto da classe Vendedor:\n",
    "vendedor = Vendedor (conexao)\n",
    "# Ler os registros do banco de dados:\n",
    "vendedor.buscar ()"
   ]
  },
  {
   "source": [
    "# Subconsulta (not in)"
   ],
   "cell_type": "markdown",
   "metadata": {}
  },
  {
   "cell_type": "code",
   "execution_count": 40,
   "metadata": {
    "tags": []
   },
   "outputs": [
    {
     "output_type": "stream",
     "name": "stdout",
     "text": "CPF Vendedor\n0  444.444.444-44    Diego\n1  777.777.777-77   Gisele\n<class 'pandas.core.frame.DataFrame'>\n"
    }
   ],
   "source": [
    "# Classe Vendedor:\n",
    "class Vendedor:\n",
    "    def __init__ (self, conexao):\n",
    "        self.conexao = conexao\n",
    "    def buscar (self):\n",
    "        sql = ''' select v.cpf as CPF, v.nome as Vendedor\n",
    "            from Vendedor v\n",
    "            where v.cpf not in (select vp.cpf_vendedor\n",
    "            from VendedorProduto vp);\n",
    "            '''\n",
    "        data_frame = pd.read_sql_query (sql, self.conexao)\n",
    "        print (data_frame)\n",
    "        print (type (data_frame))\n",
    "# Instanciar objeto da classe Vendedor:\n",
    "vendedor = Vendedor (conexao)\n",
    "# Ler os registros do banco de dados:\n",
    "vendedor.buscar ()"
   ]
  },
  {
   "source": [
    "# Subconsulta (not exists)"
   ],
   "cell_type": "markdown",
   "metadata": {}
  },
  {
   "cell_type": "code",
   "execution_count": 42,
   "metadata": {
    "tags": []
   },
   "outputs": [
    {
     "output_type": "stream",
     "name": "stdout",
     "text": "CPF Vendedor\n0  444.444.444-44    Diego\n1  777.777.777-77   Gisele\n<class 'pandas.core.frame.DataFrame'>\n"
    }
   ],
   "source": [
    "# Classe Vendedor:\n",
    "class Vendedor:\n",
    "    def __init__ (self, conexao):\n",
    "        self.conexao = conexao\n",
    "    def buscar (self):\n",
    "        sql = ''' select v.cpf as CPF, v.nome as Vendedor\n",
    "            from Vendedor v\n",
    "            where not exists (select vp.cpf_vendedor\n",
    "            from VendedorProduto vp\n",
    "            where v.cpf = vp.cpf_vendedor);\n",
    "            '''\n",
    "        data_frame = pd.read_sql_query (sql, self.conexao)\n",
    "        print (data_frame)\n",
    "        print (type (data_frame))\n",
    "# Instanciar objeto da classe Vendedor:\n",
    "vendedor = Vendedor (conexao)\n",
    "# Ler os registros do banco de dados:\n",
    "vendedor.buscar ()"
   ]
  },
  {
   "source": [
    "# Função agregada max"
   ],
   "cell_type": "markdown",
   "metadata": {}
  },
  {
   "cell_type": "code",
   "execution_count": 44,
   "metadata": {
    "tags": []
   },
   "outputs": [
    {
     "output_type": "stream",
     "name": "stdout",
     "text": "Preço Máximo\n0        5000.0\n<class 'pandas.core.frame.DataFrame'>\n"
    }
   ],
   "source": [
    "# Classe VendedorProduto:\n",
    "class VendedorProduto:\n",
    "    def __init__ (self, conexao):\n",
    "        self.conexao = conexao\n",
    "    def buscar (self):\n",
    "        sql = ''' select max (preco) as 'Preço Máximo'\n",
    "            from VendedorProduto\n",
    "            '''\n",
    "        data_frame = pd.read_sql_query (sql, self.conexao)\n",
    "        print (data_frame)\n",
    "        print (type (data_frame))\n",
    "# Instanciar objeto da classe Vendedor:\n",
    "vendedor_produto = VendedorProduto (conexao)\n",
    "# Pesquisar:\n",
    "vendedor_produto.buscar ()"
   ]
  },
  {
   "source": [
    "# Função agregada min"
   ],
   "cell_type": "markdown",
   "metadata": {}
  },
  {
   "cell_type": "code",
   "execution_count": 46,
   "metadata": {
    "tags": []
   },
   "outputs": [
    {
     "output_type": "stream",
     "name": "stdout",
     "text": "Preço Máximo\n0          26.0\n<class 'pandas.core.frame.DataFrame'>\n"
    }
   ],
   "source": [
    "# Classe VendedorProduto:\n",
    "class VendedorProduto:\n",
    "    def __init__ (self, conexao):\n",
    "        self.conexao = conexao\n",
    "    def buscar (self):\n",
    "        sql = ''' select min (preco) as 'Preço Máximo'\n",
    "            from VendedorProduto\n",
    "            '''\n",
    "        data_frame = pd.read_sql_query (sql, self.conexao)\n",
    "        print (data_frame)\n",
    "        print (type (data_frame))\n",
    "# Instanciar objeto da classe Vendedor:\n",
    "vendedor_produto = VendedorProduto (conexao)\n",
    "# Pesquisar:\n",
    "vendedor_produto.buscar ()"
   ]
  },
  {
   "source": [
    "# Função agregada avg"
   ],
   "cell_type": "markdown",
   "metadata": {}
  },
  {
   "cell_type": "code",
   "execution_count": 48,
   "metadata": {
    "tags": []
   },
   "outputs": [
    {
     "output_type": "stream",
     "name": "stdout",
     "text": "Preço Máximo\n0       1602.75\n<class 'pandas.core.frame.DataFrame'>\n"
    }
   ],
   "source": [
    "# Classe VendedorProduto:\n",
    "class VendedorProduto:\n",
    "    def __init__ (self, conexao):\n",
    "        self.conexao = conexao\n",
    "    def buscar (self):\n",
    "        sql = ''' select avg (preco) as 'Preço Máximo'\n",
    "            from VendedorProduto\n",
    "            '''\n",
    "        data_frame = pd.read_sql_query (sql, self.conexao)\n",
    "        print (data_frame)\n",
    "        print (type (data_frame))\n",
    "# Instanciar objeto da classe Vendedor:\n",
    "vendedor_produto = VendedorProduto (conexao)\n",
    "# Pesquisar:\n",
    "vendedor_produto.buscar ()\n"
   ]
  },
  {
   "source": [
    "# Função agregada sum"
   ],
   "cell_type": "markdown",
   "metadata": {}
  },
  {
   "cell_type": "code",
   "execution_count": 50,
   "metadata": {
    "tags": []
   },
   "outputs": [
    {
     "output_type": "stream",
     "name": "stdout",
     "text": "Preço Máximo\n0       25644.0\n<class 'pandas.core.frame.DataFrame'>\n"
    }
   ],
   "source": [
    "# Classe VendedorProduto:\n",
    "class VendedorProduto:\n",
    "    def __init__ (self, conexao):\n",
    "        self.conexao = conexao\n",
    "    def buscar (self):\n",
    "        sql = ''' select sum (preco) as 'Preço Máximo'\n",
    "            from VendedorProduto\n",
    "            '''\n",
    "        data_frame = pd.read_sql_query (sql, self.conexao)\n",
    "        print (data_frame)\n",
    "        print (type (data_frame))\n",
    "# Instanciar objeto da classe Vendedor:\n",
    "vendedor_produto = VendedorProduto (conexao)\n",
    "# Pesquisar:\n",
    "vendedor_produto.buscar ()\n"
   ]
  },
  {
   "source": [
    "# Função agregada count"
   ],
   "cell_type": "markdown",
   "metadata": {}
  },
  {
   "cell_type": "code",
   "execution_count": 53,
   "metadata": {
    "tags": []
   },
   "outputs": [
    {
     "output_type": "stream",
     "name": "stdout",
     "text": "Contagem\n0        16\n<class 'pandas.core.frame.DataFrame'>\n"
    }
   ],
   "source": [
    "# Classe VendedorProduto:\n",
    "class VendedorProduto:\n",
    "    def __init__ (self, conexao):\n",
    "        self.conexao = conexao\n",
    "    def buscar (self):\n",
    "        sql = ''' select count (id) as 'Contagem'\n",
    "            from VendedorProduto\n",
    "            '''\n",
    "        data_frame = pd.read_sql_query (sql, self.conexao)\n",
    "        print (data_frame)\n",
    "        print (type (data_frame))\n",
    "# Instanciar objeto da classe Vendedor:\n",
    "vendedor_produto = VendedorProduto (conexao)\n",
    "# Pesquisar:\n",
    "vendedor_produto.buscar ()\n"
   ]
  },
  {
   "source": [
    "# group by"
   ],
   "cell_type": "markdown",
   "metadata": {}
  },
  {
   "cell_type": "code",
   "execution_count": 55,
   "metadata": {
    "tags": []
   },
   "outputs": [
    {
     "output_type": "stream",
     "name": "stdout",
     "text": "Produto              Categoria  Qtde   Preco\n0      Calça  Utensilhos domesticos     0    40.0\n1      Calça  Utensilhos domesticos     3  3000.0\n2     Camisa  Utensilhos domesticos     2   110.0\n3     Camisa  Utensilhos domesticos     3   120.0\n4    Celular                   Peão     3  5000.0\n5    Celular                   Peão     4  1000.0\n6    Celular                   Peão     5  4000.0\n7   Notebook              celulares     6  3000.0\n8   Notebook              celulares    10    45.0\n9   Notebook              celulares    10    50.0\n10      Peão                   Peão     1  5000.0\n11      Peão                   Peão     2  4000.0\n12      Peão                   Peão     5    26.0\n13     Tênis                 livros     0    87.0\n14     Tênis                 livros     2    88.0\n15     Tênis                 livros     8    78.0\n<class 'pandas.core.frame.DataFrame'>\n"
    }
   ],
   "source": [
    "# Classe Produto:\n",
    "class Produto:\n",
    "    def __init__ (self, conexao):\n",
    "        self.conexao = conexao\n",
    "    def buscar (self):\n",
    "        sql = ''' select p.nome as Produto, c.nome as Categoria, vp.quantidade as Qtde, vp.preco as Preco\n",
    "        from Produto p, Categoria c, VendedorProduto vp\n",
    "        where vp.id_produto = p.id and\n",
    "        p.id_categoria = c.id\n",
    "        group by p.nome, c.nome, vp.quantidade, vp.preco\n",
    "        '''\n",
    "        data_frame = pd.read_sql_query (sql, self.conexao)\n",
    "        print (data_frame)\n",
    "        print (type (data_frame))\n",
    "# Instanciar objeto da classe Vendedor:\n",
    "produto = Produto (conexao)\n",
    "# Pesquisar:\n",
    "produto.buscar ()\n"
   ]
  },
  {
   "source": [
    "# having"
   ],
   "cell_type": "markdown",
   "metadata": {}
  },
  {
   "cell_type": "code",
   "execution_count": 57,
   "metadata": {
    "tags": []
   },
   "outputs": [
    {
     "output_type": "stream",
     "name": "stdout",
     "text": "Produto              Categoria  Qtde   Preco\n0     Calça  Utensilhos domesticos     3  3000.0\n1   Celular                   Peão     3  5000.0\n2   Celular                   Peão     4  1000.0\n3   Celular                   Peão     5  4000.0\n4  Notebook              celulares     6  3000.0\n5      Peão                   Peão     1  5000.0\n6      Peão                   Peão     2  4000.0\n<class 'pandas.core.frame.DataFrame'>\n"
    }
   ],
   "source": [
    "# Classe Produto:\n",
    "class Produto:\n",
    "    def __init__ (self, conexao):\n",
    "        self.conexao = conexao\n",
    "    def buscar (self):\n",
    "        sql = ''' select p.nome as Produto, c.nome as Categoria, vp.quantidade as Qtde, vp.preco as Preco\n",
    "            from Produto p, Categoria c, VendedorProduto vp\n",
    "            where vp.id_produto = p.id and\n",
    "            p.id_categoria = c.id\n",
    "            group by p.nome, c.nome, vp.quantidade, vp.preco\n",
    "            having vp.preco > 500\n",
    "            '''\n",
    "        data_frame = pd.read_sql_query (sql, self.conexao)\n",
    "        print (data_frame)\n",
    "        print (type (data_frame))\n",
    "# Instanciar objeto da classe Vendedor:\n",
    "produto = Produto (conexao)\n",
    "# Pesquisar:\n",
    "produto.buscar ()"
   ]
  },
  {
   "source": [
    "# order by"
   ],
   "cell_type": "markdown",
   "metadata": {}
  },
  {
   "cell_type": "code",
   "execution_count": 59,
   "metadata": {
    "tags": []
   },
   "outputs": [
    {
     "output_type": "stream",
     "name": "stdout",
     "text": "Produto              Categoria  Qtde   Preço\n0  Notebook              celulares     6  3000.0\n1   Celular                   Peão     3  5000.0\n2      Peão                   Peão     1  5000.0\n3   Celular                   Peão     5  4000.0\n4      Peão                   Peão     2  4000.0\n5   Celular                   Peão     4  1000.0\n6     Calça  Utensilhos domesticos     3  3000.0\n<class 'pandas.core.frame.DataFrame'>\n"
    }
   ],
   "source": [
    "# Classe Produto:\n",
    "class Produto:\n",
    "    def __init__ (self, conexao):\n",
    "        self.conexao = conexao\n",
    "    def buscar (self):\n",
    "        sql = ''' select p.nome as Produto, c.nome as Categoria, vp.quantidade as Qtde, vp.preco as Preço\n",
    "            from Produto p, Categoria c, VendedorProduto vp\n",
    "            where vp.id_produto = p.id and\n",
    "            p.id_categoria = c.id\n",
    "            group by p.nome, c.nome, vp.quantidade, vp.preco\n",
    "            having vp.preco > 500\n",
    "            order by c.nome asc, vp.preco desc\n",
    "        '''\n",
    "        data_frame = pd.read_sql_query (sql, self.conexao)\n",
    "        print (data_frame)\n",
    "        print (type (data_frame))\n",
    "# Instanciar objeto da classe Vendedor:\n",
    "produto = Produto (conexao)\n",
    "# Pesquisar:\n",
    "produto.buscar ()"
   ]
  },
  {
   "source": [
    "# inner join"
   ],
   "cell_type": "markdown",
   "metadata": {}
  },
  {
   "cell_type": "code",
   "execution_count": 68,
   "metadata": {
    "tags": []
   },
   "outputs": [
    {
     "output_type": "stream",
     "name": "stdout",
     "text": "CPF Vendedor  Qtde   Preço   Produto              Categoria\n0   111.111.111-11      Ana     2  4000.0      Peão                   Peão\n1   111.111.111-11      Ana     3  3000.0     Calça  Utensilhos domesticos\n2   111.111.111-11      Ana     4  1000.0   Celular                   Peão\n3   111.111.111-11      Ana     2   110.0    Camisa  Utensilhos domesticos\n4      12345678922  Augusto     5    26.0      Peão                   Peão\n5   222.222.222-22    Bruno     3  5000.0   Celular                   Peão\n6   222.222.222-22    Bruno     5  4000.0   Celular                   Peão\n7   222.222.222-22    Bruno     6  3000.0  Notebook              celulares\n8   333.333.333-33    Carla    10    50.0  Notebook              celulares\n9   333.333.333-33    Carla     2    88.0     Tênis                 livros\n10  555.555.555-55     Elis    10    45.0  Notebook              celulares\n11  666.666.666-66    Fábio     3   120.0    Camisa  Utensilhos domesticos\n12  666.666.666-66    Fábio     8    78.0     Tênis                 livros\n13  888.888.888-88   Heitor     0    40.0     Calça  Utensilhos domesticos\n14  999.999.999-99     Iris     0    87.0     Tênis                 livros\n15  999.999.999-99     Iris     1  5000.0      Peão                   Peão\n<class 'pandas.core.frame.DataFrame'>\n"
    }
   ],
   "source": [
    "# Classe Vendedor:\n",
    "class Vendedor:\n",
    "    def __init__ (self, conexao):\n",
    "        self.conexao = conexao\n",
    "    def buscar (self):\n",
    "        sql = ''' select v.cpf as CPF, v.nome as Vendedor, vp.quantidade as Qtde, vp.preco as Preço, p.nome as Produto, c.nome as                   Categoria from Vendedor v\n",
    "            inner join VendedorProduto vp on v.cpf = vp.cpf_vendedor\n",
    "            inner join Produto p on vp.id_produto = p.id\n",
    "            inner join Categoria c on p.id_categoria = c.id\n",
    "            order by v.cpf;\n",
    "            '''\n",
    "\n",
    "        data_frame = pd.read_sql_query (sql, self.conexao)\n",
    "        print (data_frame)\n",
    "        print (type (data_frame))\n",
    " # Instanciar objeto da classe Vendedor:\n",
    "vendedor = Vendedor (conexao)\n",
    "# Pesquisa:\n",
    "vendedor.buscar ()\n"
   ]
  },
  {
   "source": [
    "# left join"
   ],
   "cell_type": "markdown",
   "metadata": {}
  },
  {
   "cell_type": "code",
   "execution_count": 69,
   "metadata": {
    "tags": []
   },
   "outputs": [
    {
     "output_type": "stream",
     "name": "stdout",
     "text": "CPF Vendedor  Qtde   Preço   Produto              Categoria\n0   111.111.111-11      Ana   2.0  4000.0      Peão                   Peão\n1   111.111.111-11      Ana   3.0  3000.0     Calça  Utensilhos domesticos\n2   111.111.111-11      Ana   4.0  1000.0   Celular                   Peão\n3   111.111.111-11      Ana   2.0   110.0    Camisa  Utensilhos domesticos\n4      12345678922  Augusto   5.0    26.0      Peão                   Peão\n5   222.222.222-22    Bruno   3.0  5000.0   Celular                   Peão\n6   222.222.222-22    Bruno   5.0  4000.0   Celular                   Peão\n7   222.222.222-22    Bruno   6.0  3000.0  Notebook              celulares\n8   333.333.333-33    Carla  10.0    50.0  Notebook              celulares\n9   333.333.333-33    Carla   2.0    88.0     Tênis                 livros\n10  444.444.444-44    Diego   NaN     NaN      None                   None\n11  555.555.555-55     Elis  10.0    45.0  Notebook              celulares\n12  666.666.666-66    Fábio   3.0   120.0    Camisa  Utensilhos domesticos\n13  666.666.666-66    Fábio   8.0    78.0     Tênis                 livros\n14  777.777.777-77   Gisele   NaN     NaN      None                   None\n15  888.888.888-88   Heitor   0.0    40.0     Calça  Utensilhos domesticos\n16  999.999.999-99     Iris   0.0    87.0     Tênis                 livros\n17  999.999.999-99     Iris   1.0  5000.0      Peão                   Peão\n<class 'pandas.core.frame.DataFrame'>\n"
    }
   ],
   "source": [
    "# Classe Vendedor:\n",
    "class Vendedor:\n",
    "    def __init__ (self, conexao):\n",
    "        self.conexao = conexao\n",
    "    def buscar (self):\n",
    "        sql = ''' select v.cpf as CPF, v.nome as Vendedor, vp.quantidade as Qtde, vp.preco as Preço\n",
    "            , p.nome as Produto, c.nome as Categoria\n",
    "            from Vendedor v\n",
    "            left join VendedorProduto vp on v.cpf = vp.cpf_vendedor\n",
    "            left join Produto p on vp.id_produto = p.id\n",
    "            left join Categoria c on p.id_categoria = c.id\n",
    "            order by v.cpf;\n",
    "            '''\n",
    "\n",
    "        data_frame = pd.read_sql_query (sql, self.conexao)\n",
    "        print (data_frame)\n",
    "        print (type (data_frame))\n",
    "# Instanciar objeto da classe Vendedor:\n",
    "vendedor = Vendedor (conexao)\n",
    "# Pesquisa:\n",
    "vendedor.buscar ()"
   ]
  },
  {
   "source": [
    "# right join"
   ],
   "cell_type": "markdown",
   "metadata": {}
  },
  {
   "cell_type": "code",
   "execution_count": 70,
   "metadata": {
    "tags": []
   },
   "outputs": [
    {
     "output_type": "stream",
     "name": "stdout",
     "text": "CPF Vendedor  Qtde   Preço   Produto              Categoria\n0             None     None   NaN     NaN  Notebook              celulares\n1             None     None   NaN     NaN     Tênis                 livros\n2             None     None   NaN     NaN      None      eletroeletrônicos\n3             None     None   NaN     NaN      None              alimentos\n4             None     None   NaN     NaN      None               Esportes\n5             None     None   NaN     NaN      None                cozinha\n6             None     None   NaN     NaN      None              Telefonia\n7             None     None   NaN     NaN      None            Informática\n8             None     None   NaN     NaN      None                  Roupa\n9             None     None   NaN     NaN      None                Calçado\n10            None     None   NaN     NaN    Camisa  Utensilhos domesticos\n11            None     None   NaN     NaN     Calça  Utensilhos domesticos\n12  111.111.111-11      Ana   2.0   110.0    Camisa  Utensilhos domesticos\n13  111.111.111-11      Ana   3.0  3000.0     Calça  Utensilhos domesticos\n14  111.111.111-11      Ana   2.0  4000.0      Peão                   Peão\n15  111.111.111-11      Ana   4.0  1000.0   Celular                   Peão\n16     12345678922  Augusto   5.0    26.0      Peão                   Peão\n17  222.222.222-22    Bruno   3.0  5000.0   Celular                   Peão\n18  222.222.222-22    Bruno   5.0  4000.0   Celular                   Peão\n19  222.222.222-22    Bruno   6.0  3000.0  Notebook              celulares\n20  333.333.333-33    Carla  10.0    50.0  Notebook              celulares\n21  333.333.333-33    Carla   2.0    88.0     Tênis                 livros\n22  555.555.555-55     Elis  10.0    45.0  Notebook              celulares\n23  666.666.666-66    Fábio   3.0   120.0    Camisa  Utensilhos domesticos\n24  666.666.666-66    Fábio   8.0    78.0     Tênis                 livros\n25  888.888.888-88   Heitor   0.0    40.0     Calça  Utensilhos domesticos\n26  999.999.999-99     Iris   1.0  5000.0      Peão                   Peão\n27  999.999.999-99     Iris   0.0    87.0     Tênis                 livros\n<class 'pandas.core.frame.DataFrame'>\n"
    }
   ],
   "source": [
    "# Classe Vendedor:\n",
    "class Vendedor:\n",
    "    def __init__ (self, conexao):\n",
    "        self.conexao = conexao\n",
    "    def buscar (self):\n",
    "        sql = ''' select v.cpf as CPF, v.nome as Vendedor, vp.quantidade as Qtde, vp.preco as Preço\n",
    "            , p.nome as Produto, c.nome as Categoria\n",
    "            from Vendedor v\n",
    "            right join VendedorProduto vp on v.cpf = vp.cpf_vendedor\n",
    "            right join Produto p on vp.id_produto = p.id\n",
    "            right join Categoria c on p.id_categoria = c.id\n",
    "            order by v.cpf;\n",
    "            '''\n",
    "\n",
    "        data_frame = pd.read_sql_query (sql, self.conexao)\n",
    "        print (data_frame)\n",
    "        print (type (data_frame))\n",
    "# Instanciar objeto da classe Vendedor:\n",
    "vendedor = Vendedor (conexao)\n",
    "# Pesquisa:\n",
    "vendedor.buscar ()"
   ]
  },
  {
   "source": [
    "# full join\n"
   ],
   "cell_type": "markdown",
   "metadata": {}
  },
  {
   "cell_type": "code",
   "execution_count": 71,
   "metadata": {
    "tags": []
   },
   "outputs": [
    {
     "output_type": "stream",
     "name": "stdout",
     "text": "CPF Vendedor  Qtde   Preço   Produto              Categoria\n0             None     None   NaN     NaN    Camisa  Utensilhos domesticos\n1             None     None   NaN     NaN     Calça  Utensilhos domesticos\n2             None     None   NaN     NaN     Tênis                 livros\n3             None     None   NaN     NaN  Notebook              celulares\n4             None     None   NaN     NaN      None                  Roupa\n5             None     None   NaN     NaN      None              alimentos\n6             None     None   NaN     NaN      None               Esportes\n7             None     None   NaN     NaN      None              Telefonia\n8             None     None   NaN     NaN      None                Calçado\n9             None     None   NaN     NaN      None      eletroeletrônicos\n10            None     None   NaN     NaN      None            Informática\n11            None     None   NaN     NaN      None                cozinha\n12  111.111.111-11      Ana   2.0  4000.0      Peão                   Peão\n13  111.111.111-11      Ana   3.0  3000.0     Calça  Utensilhos domesticos\n14  111.111.111-11      Ana   4.0  1000.0   Celular                   Peão\n15  111.111.111-11      Ana   2.0   110.0    Camisa  Utensilhos domesticos\n16     12345678922  Augusto   5.0    26.0      Peão                   Peão\n17  222.222.222-22    Bruno   3.0  5000.0   Celular                   Peão\n18  222.222.222-22    Bruno   5.0  4000.0   Celular                   Peão\n19  222.222.222-22    Bruno   6.0  3000.0  Notebook              celulares\n20  333.333.333-33    Carla  10.0    50.0  Notebook              celulares\n21  333.333.333-33    Carla   2.0    88.0     Tênis                 livros\n22  444.444.444-44    Diego   NaN     NaN      None                   None\n23  555.555.555-55     Elis  10.0    45.0  Notebook              celulares\n24  666.666.666-66    Fábio   3.0   120.0    Camisa  Utensilhos domesticos\n25  666.666.666-66    Fábio   8.0    78.0     Tênis                 livros\n26  777.777.777-77   Gisele   NaN     NaN      None                   None\n27  888.888.888-88   Heitor   0.0    40.0     Calça  Utensilhos domesticos\n28  999.999.999-99     Iris   0.0    87.0     Tênis                 livros\n29  999.999.999-99     Iris   1.0  5000.0      Peão                   Peão\n<class 'pandas.core.frame.DataFrame'>\n"
    }
   ],
   "source": [
    "# Classe Vendedor:\n",
    "class Vendedor:\n",
    "    def __init__ (self, conexao):\n",
    "        self.conexao = conexao\n",
    "    def buscar (self):\n",
    "        sql = ''' select v.cpf as CPF, v.nome as Vendedor, vp.quantidade as Qtde, vp.preco as Preço\n",
    "            , p.nome as Produto, c.nome as Categoria\n",
    "            from Vendedor v\n",
    "            full join VendedorProduto vp on v.cpf = vp.cpf_vendedor\n",
    "            full join Produto p on vp.id_produto = p.id\n",
    "            full join Categoria c on p.id_categoria = c.id\n",
    "            order by v.cpf;\n",
    "            '''\n",
    "\n",
    "        data_frame = pd.read_sql_query (sql, self.conexao)\n",
    "        print (data_frame)\n",
    "        print (type (data_frame))\n",
    "# Instanciar objeto da classe Vendedor:\n",
    "vendedor = Vendedor (conexao)\n",
    "# Pesquisa:\n",
    "vendedor.buscar ()"
   ]
  },
  {
   "source": [
    "# cross join"
   ],
   "cell_type": "markdown",
   "metadata": {}
  },
  {
   "cell_type": "code",
   "execution_count": 72,
   "metadata": {
    "tags": []
   },
   "outputs": [
    {
     "output_type": "stream",
     "name": "stdout",
     "text": "Produto              Categoria\n0     Calça              alimentos\n1     Calça              alimentos\n2     Calça              alimentos\n3     Calça                Calçado\n4     Calça                Calçado\n..      ...                    ...\n187   Tênis              Telefonia\n188   Tênis              Telefonia\n189   Tênis  Utensilhos domesticos\n190   Tênis  Utensilhos domesticos\n191   Tênis  Utensilhos domesticos\n\n[192 rows x 2 columns]\n<class 'pandas.core.frame.DataFrame'>\n"
    }
   ],
   "source": [
    "# Classe Produto:\n",
    "class Produto:\n",
    "    def __init__ (self, conexao):\n",
    "        self.conexao = conexao\n",
    "    def buscar (self):\n",
    "        sql = ''' select p.nome as Produto, c.nome as Categoria\n",
    "            from Produto p\n",
    "            cross join Categoria c\n",
    "            order by p.nome, c.nome;\n",
    "            '''\n",
    "        data_frame = pd.read_sql_query (sql, self.conexao)\n",
    "        print (data_frame)\n",
    "        print (type (data_frame))\n",
    "# Instanciar objeto da classe Vendedor:\n",
    "produto = Produto (conexao)\n",
    "# Pesquisar:\n",
    "produto.buscar ()\n"
   ]
  },
  {
   "source": [
    "# Exercício"
   ],
   "cell_type": "markdown",
   "metadata": {}
  },
  {
   "source": [
    "* 1) Quais vendedores possuem o nome terminado com a letra “s”?"
   ],
   "cell_type": "markdown",
   "metadata": {}
  },
  {
   "cell_type": "code",
   "execution_count": 83,
   "metadata": {
    "tags": []
   },
   "outputs": [
    {
     "output_type": "stream",
     "name": "stdout",
     "text": "Vendedor\n0     Elis\n1     Iris\n<class 'pandas.core.frame.DataFrame'>\n"
    }
   ],
   "source": [
    "# Classe Vendedor:\n",
    "class Vendedor:\n",
    "    def __init__ (self, conexao):\n",
    "        self.conexao = conexao\n",
    "    def buscar (self):\n",
    "        sql = ''' select v.nome as Vendedor\n",
    "            from Vendedor v\n",
    "            where v.nome like '%s';\n",
    "            '''\n",
    "\n",
    "        data_frame = pd.read_sql_query (sql, self.conexao)\n",
    "        print (data_frame)\n",
    "        print (type (data_frame))\n",
    "# Instanciar objeto da classe Vendedor:\n",
    "vendedor = Vendedor (conexao)\n",
    "# Pesquisa:\n",
    "vendedor.buscar ()"
   ]
  },
  {
   "source": [
    "* 2) Quais vendedores possuem produtos com valor entre $10 e $50 ou entre $100 e $500?"
   ],
   "cell_type": "markdown",
   "metadata": {}
  },
  {
   "cell_type": "code",
   "execution_count": 10,
   "metadata": {
    "tags": []
   },
   "outputs": [
    {
     "output_type": "stream",
     "name": "stdout",
     "text": "Vendedor\n0      Ana\n1  Augusto\n2    Bruno\n3    Carla\n4    Diego\n5     Elis\n6    Fábio\n7   Gisele\n8   Heitor\n9     Iris\n<class 'pandas.core.frame.DataFrame'>\n"
    }
   ],
   "source": [
    "# Classe Vendedor:\n",
    "class Vendedor:\n",
    "    def __init__ (self, conexao):\n",
    "        self.conexao = conexao\n",
    "    def buscar (self):\n",
    "        sql = ''' select v.nome as Vendedor\n",
    "            from Vendedor v, VendedorProduto vp, Produto p\n",
    "            where v.cpf = vp.cpf_vendedor and\n",
    "            vp.id_produto = p.id and\n",
    "            vp.preco between 10 and 50 or vp.preco between 100 and 500\n",
    "            group by v.nome;\n",
    "            '''\n",
    "\n",
    "        data_frame = pd.read_sql_query (sql, self.conexao)\n",
    "        print (data_frame)\n",
    "        print (type (data_frame))\n",
    "# Instanciar objeto da classe Vendedor:\n",
    "vendedor = Vendedor (conexao)\n",
    "# Pesquisa:\n",
    "vendedor.buscar ()\n"
   ]
  },
  {
   "source": [
    "* 3) Se Ana vender todos os seu produtos, quanto ela receberá?"
   ],
   "cell_type": "markdown",
   "metadata": {}
  },
  {
   "cell_type": "code",
   "execution_count": 102,
   "metadata": {
    "tags": []
   },
   "outputs": [
    {
     "output_type": "stream",
     "name": "stdout",
     "text": "Preço Máximo\n0       21220.0\n<class 'pandas.core.frame.DataFrame'>\n"
    }
   ],
   "source": [
    "# Classe VendedorProduto:\n",
    "class VendedorProduto:\n",
    "    def __init__ (self, conexao):\n",
    "        self.conexao = conexao\n",
    "    def buscar (self):\n",
    "        sql = ''' select sum (preco * quantidade) as 'Preço Máximo'\n",
    "            from VendedorProduto vp, Vendedor v where vp.cpf_vendedor = v.cpf and v.nome = 'Ana'\n",
    "            '''\n",
    "        data_frame = pd.read_sql_query (sql, self.conexao)\n",
    "        print (data_frame)\n",
    "        print (type (data_frame))\n",
    "# Instanciar objeto da classe Vendedor:\n",
    "vendedor_produto = VendedorProduto (conexao)\n",
    "# Pesquisar:\n",
    "vendedor_produto.buscar ()"
   ]
  },
  {
   "source": [
    "* 4) Se todos os vendedores venderem todos os seu produtos, qual será o total apurado nas\n",
    "vendas?"
   ],
   "cell_type": "markdown",
   "metadata": {}
  },
  {
   "cell_type": "code",
   "execution_count": 103,
   "metadata": {
    "tags": []
   },
   "outputs": [
    {
     "output_type": "stream",
     "name": "stdout",
     "text": "Preço Máximo\n0       81460.0\n<class 'pandas.core.frame.DataFrame'>\n"
    }
   ],
   "source": [
    "# Classe VendedorProduto:\n",
    "class VendedorProduto:\n",
    "    def __init__ (self, conexao):\n",
    "        self.conexao = conexao\n",
    "    def buscar (self):\n",
    "        sql = ''' select sum (preco * quantidade) as 'Preço Máximo'\n",
    "            from VendedorProduto vp, Vendedor v where vp.cpf_vendedor = v.cpf\n",
    "            '''\n",
    "        data_frame = pd.read_sql_query (sql, self.conexao)\n",
    "        print (data_frame)\n",
    "        print (type (data_frame))\n",
    "# Instanciar objeto da classe Vendedor:\n",
    "vendedor_produto = VendedorProduto (conexao)\n",
    "# Pesquisar:\n",
    "vendedor_produto.buscar ()"
   ]
  },
  {
   "source": [
    "* 5) Se todos os vendedores venderem todos os seu produtos, quem receberá o maior valor?"
   ],
   "cell_type": "markdown",
   "metadata": {}
  },
  {
   "cell_type": "code",
   "execution_count": 12,
   "metadata": {
    "tags": []
   },
   "outputs": [
    {
     "output_type": "stream",
     "name": "stdout",
     "text": "nome   vendas\n0  Bruno  53000.0\n<class 'pandas.core.frame.DataFrame'>\n"
    }
   ],
   "source": [
    "# Classe VendedorProduto:\n",
    "class VendedorProduto:\n",
    "    def __init__ (self, conexao):\n",
    "        self.conexao = conexao\n",
    "    def buscar (self):\n",
    "        sql = ''' select top 1 v.nome, sm.vendas from (select cpf_vendedor, sum (preco * quantidade) as 'vendas'\n",
    "              from VendedorProduto\n",
    "              group by cpf_vendedor) as sm inner join Vendedor v on v.cpf = sm.cpf_vendedor order by sm.vendas desc\n",
    "            '''\n",
    "        data_frame = pd.read_sql_query (sql, self.conexao)\n",
    "        print (data_frame)\n",
    "        print (type (data_frame))\n",
    "# Instanciar objeto da classe Vendedor:\n",
    "vendedor_produto = VendedorProduto (conexao)\n",
    "# Pesquisar:\n",
    "vendedor_produto.buscar ()\n",
    "                "
   ]
  },
  {
   "source": [
    "* 6) Se todos os vendedores venderem todos os seu produtos, qual será o valor médio das\n",
    "vendas?"
   ],
   "cell_type": "markdown",
   "metadata": {}
  },
  {
   "cell_type": "code",
   "execution_count": 13,
   "metadata": {
    "tags": []
   },
   "outputs": [
    {
     "output_type": "stream",
     "name": "stdout",
     "text": "\n0  10182.5\n<class 'pandas.core.frame.DataFrame'>\n"
    }
   ],
   "source": [
    "# Classe VendedorProduto:\n",
    "class VendedorProduto:\n",
    "    def __init__ (self, conexao):\n",
    "        self.conexao = conexao\n",
    "    def buscar (self):\n",
    "        sql = ''' select cast(avg(vendas) as decimal(10, 2)) from (select sum (preco * quantidade) as 'vendas'\n",
    "              from VendedorProduto\n",
    "              group by cpf_vendedor) as sm\n",
    "            '''\n",
    "        data_frame = pd.read_sql_query (sql, self.conexao)\n",
    "        print (data_frame)\n",
    "        print (type (data_frame))\n",
    "# Instanciar objeto da classe Vendedor:\n",
    "vendedor_produto = VendedorProduto (conexao)\n",
    "# Pesquisar:\n",
    "vendedor_produto.buscar ()\n"
   ]
  },
  {
   "source": [
    "* 7) Se todos os vendedores venderem todos os seu produtos, quem receberá acima da\n",
    "média? "
   ],
   "cell_type": "markdown",
   "metadata": {}
  },
  {
   "cell_type": "code",
   "execution_count": 14,
   "metadata": {
    "tags": []
   },
   "outputs": [
    {
     "output_type": "stream",
     "name": "stdout",
     "text": "nome   vendas\n0    Ana  21220.0\n1  Bruno  53000.0\n<class 'pandas.core.frame.DataFrame'>\n"
    }
   ],
   "source": [
    "class Vendedor:\n",
    "    def __init__ (self, conexao):\n",
    "        self.conexao = conexao\n",
    "\n",
    "    def buscar (self):\n",
    "        sql = '''select v.nome, sm.vendas from  (select cpf_vendedor, sum (preco * quantidade) as 'vendas'\n",
    "              from VendedorProduto\n",
    "              group by cpf_vendedor) as sm inner join Vendedor v on v.cpf = sm.cpf_vendedor where sm.vendas > (select avg(sm1.vendas) from                  (select sum (preco * quantidade) as 'vendas'\n",
    "              from VendedorProduto\n",
    "              group by cpf_vendedor) as sm1) \n",
    "              \n",
    "        '''\n",
    "        data_frame = pd.read_sql_query (sql, self.conexao)\n",
    "        print (data_frame)\n",
    "        print (type (data_frame))\n",
    "\n",
    "vendedor = Vendedor (conexao)\n",
    "\n",
    "vendedor.buscar ()"
   ]
  },
  {
   "cell_type": "code",
   "execution_count": null,
   "metadata": {},
   "outputs": [],
   "source": []
  }
 ]
}