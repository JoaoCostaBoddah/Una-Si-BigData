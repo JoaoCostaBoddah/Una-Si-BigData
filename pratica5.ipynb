{
 "metadata": {
  "language_info": {
   "codemirror_mode": {
    "name": "ipython",
    "version": 3
   },
   "file_extension": ".py",
   "mimetype": "text/x-python",
   "name": "python",
   "nbconvert_exporter": "python",
   "pygments_lexer": "ipython3",
   "version": "3.8.5-final"
  },
  "orig_nbformat": 2,
  "kernelspec": {
   "name": "python_defaultSpec_1598913141336",
   "display_name": "Python 3.8.5 64-bit"
  }
 },
 "nbformat": 4,
 "nbformat_minor": 2,
 "cells": [
  {
   "cell_type": "markdown",
   "metadata": {},
   "source": [
    "# Inserir na Tabela Categoria"
   ]
  },
  {
   "cell_type": "code",
   "execution_count": 28,
   "metadata": {},
   "outputs": [],
   "source": [
    "# importar biblioteca pyodbc\n",
    "\n",
    "import pyodbc"
   ]
  },
  {
   "cell_type": "code",
   "execution_count": 29,
   "metadata": {},
   "outputs": [],
   "source": [
    "# Classe para conexão com o banco de dados:\n",
    "\n",
    "class ConexaoBD ():\n",
    "    def conectar (self):\n",
    "        return pyodbc.connect (driver = '{SQL Server}', server = '.\\SQLEXPRESS', database ='empresa', trusted_connection = 'yes')"
   ]
  },
  {
   "cell_type": "code",
   "execution_count": 30,
   "metadata": {},
   "outputs": [],
   "source": [
    "# Instanciar um objeto da classe para conexão com o banco de dados:\n",
    "bd = ConexaoBD ()\n",
    "\n",
    "# Pegar uma conexão com o banco de dados:\n",
    "conexao = bd.conectar ()\n"
   ]
  },
  {
   "cell_type": "code",
   "execution_count": 34,
   "metadata": {},
   "outputs": [],
   "source": [
    "# Classe Categoria:\n",
    "class Categoria:\n",
    "    def __init__ (self, conexao):\n",
    "        self.conexao = conexao\n",
    "\n",
    "    def inserir (self):\n",
    "        dml = \"insert into Categoria (nome, descricao) values ('CategoriaTeste', 'TesteCategorias');\"\n",
    "        with self.conexao:\n",
    "            cursor = self.conexao.cursor ()\n",
    "            cursor.execute (dml)\n",
    "\n",
    "            # self.conexao.commit ()\n",
    "            sql = \"select * from Categoria;\"\n",
    "            cursor.execute (sql)\n",
    "            linha = cursor.fetchone ()\n",
    "        return linha"
   ]
  },
  {
   "cell_type": "code",
   "execution_count": 32,
   "metadata": {
    "tags": []
   },
   "outputs": [
    {
     "output_type": "stream",
     "name": "stdout",
     "text": "(1, 'CatSubstituto2', 'CatTesteSubstituto2')\n"
    }
   ],
   "source": [
    "# Instaciar objeto da classe Categoria:\n",
    "categoria = Categoria (conexao)\n",
    "# Inserir um registro no banco de dados:\n",
    "linha = categoria.inserir ()\n",
    "# Apresentar na tela o registro inserido no banco de dados:\n",
    "print (linha)"
   ]
  },
  {
   "cell_type": "code",
   "execution_count": 13,
   "metadata": {},
   "outputs": [],
   "source": [
    "# Classe Categoria:\n",
    "class Categoria:\n",
    "    def __init__ (self, conexao):\n",
    "        self.conexao = conexao\n",
    "    def inserir (self):\n",
    "        dml = \"insert into Categoria (nome, descricao) values (?, ?);\"\n",
    "        nome = input (\"Informe o nome da categoria: \")\n",
    "        descricao = input (\"Informe a descrição da categoria: \")\n",
    "        parametros = tuple ((nome, descricao))\n",
    "        with self.conexao:\n",
    "            cursor = self.conexao.cursor ()\n",
    "            cursor.execute (dml, parametros)\n",
    "            # self.conexao.commit ()\n",
    "            sql = \"select * from Categoria;\"\n",
    "            cursor.execute (sql)\n",
    "            linha = cursor.fetchall ()\n",
    "        return linha"
   ]
  },
  {
   "cell_type": "code",
   "execution_count": 35,
   "metadata": {
    "tags": []
   },
   "outputs": [
    {
     "output_type": "stream",
     "name": "stdout",
     "text": "[(1, 'CatSubstituto2', 'CatTesteSubstituto2'), (2, 'Proteinas', 'Ricas em vitaminas e macronutrientes'), (3, 'Gorduras', 'Ricas em lípidios e omega 3'), (4, 'Celulares', 'Telefones Celulares'), (5, 'Celulares', 'Telefones Celulares'), (12, 'Laticinios', 'Leite de Bode'), (13, 'livros', 'livros impressos'), (14, 'eletroeletrônicos', 'dispositivos eletroeletrônicos'), (15, 'alimentos', 'alimentos não perecíveis'), (16, 'Peixes', 'Peixes de água Doce'), (17, 'Peixes', 'Peixe de água salgada'), (18, 'CatTeste', 'Teste'), (19, 'CatTeste2', 'Teste2'), (20, 'cozinha', 'utensílios de cozinha'), (21, 'CategoriaTeste', 'TesteCategorias'), (22, 'Estudos', 'Materiais de Apoio')]\n"
    }
   ],
   "source": [
    "#inserir passando os parametros\n",
    "\n",
    "# Classe Categoria:\n",
    "class Categoria:\n",
    "    def __init__ (self, conexao):\n",
    "        self.conexao = conexao\n",
    "    def inserir (self):\n",
    "        dml = \"insert into Categoria (nome, descricao) values (?, ?);\"\n",
    "        nome = input (\"Informe o nome da categoria: \")\n",
    "        descricao = input (\"Informe a descrição da categoria: \")\n",
    "        with self.conexao:\n",
    "            cursor = self.conexao.cursor ()\n",
    "            cursor.execute (dml, nome, descricao)\n",
    "           # self.conexao.commit ()\n",
    "            sql = \"select * from Categoria;\"\n",
    "            cursor.execute (sql)\n",
    "            linhas = cursor.fetchall ()\n",
    "        return linhas\n",
    "\n",
    "# Instaciar objeto da classe Categoria:\n",
    "categoria = Categoria (conexao)\n",
    "\n",
    "# Inserir um registro no banco de dados:\n",
    "linha = categoria.inserir ()\n",
    "\n",
    "# Apresentar na tela o registro inserido no banco de dados:\n",
    "print (linha)"
   ]
  },
  {
   "cell_type": "code",
   "execution_count": 22,
   "metadata": {
    "tags": []
   },
   "outputs": [
    {
     "output_type": "stream",
     "name": "stdout",
     "text": "[(1, 'Massas', 'Ricas em carboidratos e vitaminas'), (2, 'Proteinas', 'Ricas em vitaminas e macronutrientes'), (3, 'Gorduras', 'Ricas em lípidios e omega 3'), (4, 'Celulares', 'Telefones Celulares'), (5, 'Celulares', 'Telefones Celulares'), (11, '', ''), (12, 'Laticinios', 'Leite de Bode')]\n"
    }
   ],
   "source": []
  },
  {
   "cell_type": "code",
   "execution_count": 23,
   "metadata": {
    "tags": []
   },
   "outputs": [
    {
     "output_type": "stream",
     "name": "stdout",
     "text": "[(1, 'Massas', 'Ricas em carboidratos e vitaminas'), (2, 'Proteinas', 'Ricas em vitaminas e macronutrientes'), (3, 'Gorduras', 'Ricas em lípidios e omega 3'), (4, 'Celulares', 'Telefones Celulares'), (5, 'Celulares', 'Telefones Celulares'), (11, '', ''), (12, 'Laticinios', 'Leite de Bode'), (13, 'livros', 'livros impressos'), (14, 'eletroeletrônicos', 'dispositivos eletroeletrônicos'), (15, 'alimentos', 'alimentos não perecíveis')]\n"
    }
   ],
   "source": [
    "#Inserir passando os parametros\n",
    "\n",
    "# Classe Categoria:\n",
    "class Categoria:\n",
    "    def __init__ (self, conexao):\n",
    "        self.conexao = conexao\n",
    "    def inserir (self):\n",
    "        dml = \"insert into Categoria (nome, descricao) values (?, ?);\"\n",
    "        parametros = [\n",
    "        ('livros', 'livros impressos'),\n",
    "        ('eletroeletrônicos', 'dispositivos eletroeletrônicos'),\n",
    "        ('alimentos', 'alimentos não perecíveis')\n",
    "        ]\n",
    "        with self.conexao:\n",
    "            cursor = self.conexao.cursor ()\n",
    "            cursor.executemany (dml, parametros)\n",
    "            # self.conexao.commit ()\n",
    "            sql = \"select * from Categoria;\"\n",
    "            cursor.execute (sql)\n",
    "            linha = cursor.fetchall ()\n",
    "        return linha\n",
    "\n",
    "# Instaciar objeto da classe Categoria:\n",
    "categoria = Categoria (conexao)\n",
    "# Inserir um registro no banco de dados:\n",
    "linha = categoria.inserir ()\n",
    "# Apresentar na tela o registro inserido no banco de dados:\n",
    "print (linha)"
   ]
  },
  {
   "cell_type": "code",
   "execution_count": 24,
   "metadata": {
    "tags": []
   },
   "outputs": [
    {
     "output_type": "stream",
     "name": "stdout",
     "text": "[('Peixes', 'Peixes de água Doce')]\n[('Peixes', 'Peixes de água Doce'), ('Peixes', 'Peixe de água salgada')]\n[(1, 'Massas', 'Ricas em carboidratos e vitaminas'), (2, 'Proteinas', 'Ricas em vitaminas e macronutrientes'), (3, 'Gorduras', 'Ricas em lípidios e omega 3'), (4, 'Celulares', 'Telefones Celulares'), (5, 'Celulares', 'Telefones Celulares'), (11, '', ''), (12, 'Laticinios', 'Leite de Bode'), (13, 'livros', 'livros impressos'), (14, 'eletroeletrônicos', 'dispositivos eletroeletrônicos'), (15, 'alimentos', 'alimentos não perecíveis'), (16, 'Peixes', 'Peixes de água Doce'), (17, 'Peixes', 'Peixe de água salgada')]\n"
    }
   ],
   "source": [
    "#Inserir vários valores passados pelo usuário, perguntando se o mesmo quer continuar ou não\n",
    "\n",
    "# Classe Categoria:\n",
    "class Categoria:\n",
    "    def __init__ (self, conexao):\n",
    "        self.conexao = conexao\n",
    "    def valores (self):\n",
    "        parametros = []\n",
    "        while True:\n",
    "            nome = input (\"Informe o nome da categoria: \")\n",
    "            descricao = input (\"Informe a descrição da categoria: \")\n",
    "            parametros.append ((nome, descricao))\n",
    "            print (parametros)\n",
    "            resp = input (\"Deseja informar outro registro? (s/n)\")\n",
    "            if (resp == \"n\"):\n",
    "                break\n",
    "        return parametros\n",
    "    def inserir (self):\n",
    "        dml = \"insert into Categoria (nome, descricao) values (?, ?);\"\n",
    "        parametros = self.valores ()\n",
    "        with self.conexao:\n",
    "            cursor = self.conexao.cursor ()\n",
    "            cursor.executemany (dml, parametros)\n",
    "            # self.conexao.commit ()\n",
    "            sql = \"select * from Categoria;\"\n",
    "            cursor.execute (sql)\n",
    "            linha = cursor.fetchall ()\n",
    "        return linha\n",
    "\n",
    "# Instaciar objeto da classe Categoria:\n",
    "categoria = Categoria (conexao)\n",
    "# Inserir um registro no banco de dados:\n",
    "linha = categoria.inserir ()\n",
    "# Apresentar na tela o registro inserido no banco de dados:\n",
    "print (linha)"
   ]
  },
  {
   "cell_type": "code",
   "execution_count": 27,
   "metadata": {
    "tags": []
   },
   "outputs": [
    {
     "output_type": "stream",
     "name": "stdout",
     "text": "20\n"
    }
   ],
   "source": [
    "# Classe Categoria:\n",
    "class Categoria:\n",
    "    def __init__ (self, conexao):\n",
    "        self.conexao = conexao\n",
    "    def inserir (self):\n",
    "        dml = \"insert into Categoria (nome, descricao) values ('cozinha', 'utensílios de cozinha');\"\n",
    "        with self.conexao:\n",
    "            cursor = self.conexao.cursor ()\n",
    "            cursor.execute (dml)\n",
    "            # self.conexao.commit ()\n",
    "            sql = \"select cast (scope_identity () as int);\"\n",
    "            cursor.execute (sql)\n",
    "            id = cursor.fetchone ()[0]\n",
    "        return id\n",
    "        \n",
    "# Instaciar objeto da classe Categoria:\n",
    "categoria = Categoria (conexao)\n",
    "# Inserir um registro no banco de dados:\n",
    "linha = categoria.inserir ()\n",
    "# Apresentar na tela o registro inserido no banco de dados:\n",
    "print (linha)"
   ]
  },
  {
   "cell_type": "code",
   "execution_count": null,
   "metadata": {},
   "outputs": [],
   "source": []
  }
 ]
}