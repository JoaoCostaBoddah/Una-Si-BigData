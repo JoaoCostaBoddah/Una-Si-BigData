{
 "metadata": {
  "language_info": {
   "codemirror_mode": {
    "name": "ipython",
    "version": 3
   },
   "file_extension": ".py",
   "mimetype": "text/x-python",
   "name": "python",
   "nbconvert_exporter": "python",
   "pygments_lexer": "ipython3",
   "version": "3.8.5-final"
  },
  "orig_nbformat": 2,
  "kernelspec": {
   "name": "python_defaultSpec_1599066537393",
   "display_name": "Python 3.8.5 64-bit"
  }
 },
 "nbformat": 4,
 "nbformat_minor": 2,
 "cells": [
  {
   "cell_type": "markdown",
   "metadata": {},
   "source": [
    "# Pratica 05"
   ]
  },
  {
   "cell_type": "code",
   "execution_count": 1,
   "metadata": {},
   "outputs": [],
   "source": [
    "# importar biblioteca pyodbc\n",
    "\n",
    "import pyodbc\n",
    "# Classe para conexão com o banco de dados:\n",
    "\n",
    "class ConexaoBD ():\n",
    "    def conectar (self):\n",
    "        return pyodbc.connect (driver = '{SQL Server}', server = '.\\SQLEXPRESS', database ='empresa', trusted_connection = 'yes')\n",
    "\n",
    "# Instanciar um objeto da classe para conexão com o banco de dados:\n",
    "bd = ConexaoBD ()\n",
    "\n",
    "# Pegar uma conexão com o banco de dados:\n",
    "conexao = bd.conectar ()"
   ]
  },
  {
   "cell_type": "code",
   "execution_count": 4,
   "metadata": {
    "tags": []
   },
   "outputs": [
    {
     "output_type": "stream",
     "name": "stdout",
     "text": "[(1, 'Macarrão Vilma', 'Massa tamanho 8 com ovos', 'Vilma Alimentos', 1), (3, 'Ovo', 'Ovo de galinha caipira', 'Elshaday Alimentos', 2), (4, 'Oleo de girassol', 'Óleo rico em vitamina E', 'Supremo Alimentos', 3), (6, 'Leite de Avestrus', 'Leite rico em proteínas da ave', \"Boddah's\", 12), (8, 'ProdutoTeste', 'Produto teste para alinhar linhas', 'MarcaTeste', 2), (9, 'Teste', 'teste', 'teste', 2), (10, 'Pão Arriaga', 'Pãozão de ló', 'Arriagas System 31', 15), (11, 'Pão Teste', 'Teste Pao', 'TesteDePao', 15), (13, 'Pão com creme', 'Pão integral com creme de avelã', \"Boddah's\", 15)]\n"
    }
   ],
   "source": [
    "#inserir Produto passando os parametros pelo teclado\n",
    "\n",
    "# Classe Produto:\n",
    "class Produto:\n",
    "    def __init__ (self, conexao):\n",
    "        self.conexao = conexao\n",
    "    def inserir (self):\n",
    "        dml = \"insert into Produto (nome, descricao, marca, id_categoria) values (?, ?, ?, ?);\"\n",
    "        nome = input (\"Informe o nome do Produto: \")\n",
    "        descricao = input (\"Informe a descrição do Produto: \")\n",
    "        marca = input (\"Informe a marca do Produto: \")\n",
    "        id_categoria = input (\"Ligar a qual categoria? \")\n",
    "        with self.conexao:\n",
    "            cursor = self.conexao.cursor ()\n",
    "            cursor.execute (dml, nome, descricao, marca, id_categoria)\n",
    "           # self.conexao.commit ()\n",
    "            sql = \"select * from Produto;\"\n",
    "            cursor.execute (sql)\n",
    "            linhas = cursor.fetchall ()\n",
    "        return linhas\n",
    "\n",
    "# Instaciar objeto da classe Categoria:\n",
    "produto = Produto (conexao)\n",
    "\n",
    "# Inserir um registro no banco de dados:\n",
    "linha = produto.inserir ()\n",
    "\n",
    "# Apresentar na tela o registro inserido no banco de dados:\n",
    "print (linha)"
   ]
  },
  {
   "cell_type": "code",
   "execution_count": 5,
   "metadata": {
    "tags": []
   },
   "outputs": [
    {
     "output_type": "stream",
     "name": "stdout",
     "text": "[(1, 'Macarrão Vilma', 'Massa tamanho 8 com ovos', 'Vilma Alimentos', 1), (3, 'Ovo', 'Ovo de galinha caipira', 'Elshaday Alimentos', 2), (4, 'Oleo de girassol', 'Óleo rico em vitamina E', 'Supremo Alimentos', 3), (6, 'Leite de Avestrus', 'Leite rico em proteínas da ave', \"Boddah's\", 12), (8, 'ProdutoTeste', 'Produto teste para alinhar linhas', 'MarcaTeste', 2), (9, 'Teste', 'teste', 'teste', 2), (10, 'Pão Arriaga', 'Pãozão de ló', 'Arriagas System 31', 15), (11, 'Pão Teste', 'Teste Pao', 'TesteDePao', 15), (13, 'Pão Avelã', 'avelã grw', 'Grwoth', 15)]\n"
    }
   ],
   "source": [
    "#Atualizar Produto passando os parametros pelo teclado\n",
    "\n",
    "# Classe Produto:\n",
    "class Produto:\n",
    "    def __init__ (self, conexao):\n",
    "        self.conexao = conexao\n",
    "    def atualizar (self):\n",
    "        dml = \"update Produto set nome = ?, descricao = ?,  marca = ?, id_categoria = ? where id = ?;\"\n",
    "        nome = input (\"Informe o nome do Produto para atualizar: \")\n",
    "        descricao = input (\"Informe a descrição do Produto para atualizar: \")\n",
    "        marca = input (\"Informe a marca do Produto para atualizar: \")\n",
    "        id_categoria = input (\"Ligar a qual categoria? \")\n",
    "        id = input (\"Informe o numero do ID do Produto\")\n",
    "        with self.conexao:\n",
    "            cursor = self.conexao.cursor ()\n",
    "            cursor.execute (dml, nome, descricao, marca, id_categoria, id)\n",
    "           # self.conexao.commit ()\n",
    "            sql = \"select * from Produto;\"\n",
    "            cursor.execute (sql)\n",
    "            linhas = cursor.fetchall ()\n",
    "        return linhas\n",
    "\n",
    "# Instaciar objeto da classe Categoria:\n",
    "produto = Produto (conexao)\n",
    "\n",
    "# Inserir um registro no banco de dados:\n",
    "linha = produto.atualizar ()\n",
    "\n",
    "# Apresentar na tela o registro inserido no banco de dados:\n",
    "print (linha)"
   ]
  },
  {
   "cell_type": "code",
   "execution_count": 22,
   "metadata": {
    "tags": []
   },
   "outputs": [
    {
     "output_type": "stream",
     "name": "stdout",
     "text": "*------------------------------------------------------------------------------------------------------------------------------------------------------------------------------------*\n(1, 'Macarrão Vilma', 'Massa tamanho 8 com ovos', 'Vilma Alimentos', 1)\n(3, 'Ovo', 'Ovo de galinha caipira', 'Elshaday Alimentos', 2)\n(4, 'Oleo de girassol', 'Óleo rico em vitamina E', 'Supremo Alimentos', 3)\n(9, 'Teste', 'teste', 'teste', 2)\n(10, 'Pão Arriaga', 'Pãozão de ló', 'Arriagas System 31', 15)\n(13, 'Pão Avelã', 'avelã grw', 'Grwoth', 15)\n*------------------------------------------------------------------------------------------------------------------------------------------------------------------------------------*\n(1, 'Macarrão Vilma', 'Massa tamanho 8 com ovos', 'Vilma Alimentos', 1)\n(3, 'Ovo', 'Ovo de galinha caipira', 'Elshaday Alimentos', 2)\n(4, 'Oleo de girassol', 'Óleo rico em vitamina E', 'Supremo Alimentos', 3)\n(10, 'Pão Arriaga', 'Pãozão de ló', 'Arriagas System 31', 15)\n(13, 'Pão Avelã', 'avelã grw', 'Grwoth', 15)\n*------------------------------------------------------------------------------------------------------------------------------------------------------------------------------------*\n"
    }
   ],
   "source": [
    "# Apresentar na tela o registro no banco de dados:\n",
    "print(\"*------------------------------------------------------------------------------------------------------------------------------------------------------------------------------------*\")\n",
    "for item in linha:\n",
    "    print(item)\n",
    "print(\"*------------------------------------------------------------------------------------------------------------------------------------------------------------------------------------*\")\n",
    "\n",
    "#Deletar Produto passando os parametros pelo teclado\n",
    "\n",
    "# Classe Produto:\n",
    "class Produto:\n",
    "    def __init__ (self, conexao):\n",
    "        self.conexao = conexao\n",
    "    def deletar (self):\n",
    "        dml = \"delete from Produto where id = ?;\"\n",
    "        id = input (\"Informe o ID do Produto para excluir: \")\n",
    "        with self.conexao:\n",
    "            cursor = self.conexao.cursor ()\n",
    "            cursor.execute (dml, id)\n",
    "           # self.conexao.commit ()\n",
    "            sql = \"select * from Produto;\"\n",
    "            cursor.execute (sql)\n",
    "            linhas = cursor.fetchall ()\n",
    "        return linhas\n",
    "\n",
    "# Instaciar objeto da classe Categoria:\n",
    "produto = Produto (conexao)\n",
    "\n",
    "# Deletar um registro no banco de dados:\n",
    "linha = produto.deletar ()\n",
    "\n",
    "for item in linha:\n",
    "    print(item)\n",
    "print(\"*------------------------------------------------------------------------------------------------------------------------------------------------------------------------------------*\")\n"
   ]
  },
  {
   "cell_type": "code",
   "execution_count": null,
   "metadata": {},
   "outputs": [],
   "source": []
  }
 ]
}